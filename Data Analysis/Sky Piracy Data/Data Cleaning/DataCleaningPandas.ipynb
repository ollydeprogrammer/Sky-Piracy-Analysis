{
 "cells": [
  {
   "cell_type": "markdown",
   "metadata": {},
   "source": [
    "# Project: Reviewing Google Analytics data for search terms associated with Sky Piracy.\n",
    "\n",
    "### Objective of this document: To clean the data downloaded form Google Analytics, so that analysis can be made without any issues or misrepresentations when coming to conclusions from the data. "
   ]
  },
  {
   "cell_type": "markdown",
   "metadata": {},
   "source": [
    "##### Below is the code used to import my CSV files that I downloaded from Google Analytics. I used some general search terms to identify some trend history of pirating sky sports to keep the project simple. These terms are \"free online sky\", \"free sky\", \"free sky sports\", \"sky sports free\", \"watch sky sports free\". \n",
    "\n",
    "##### Each data set is stored into its own variable based on the name / search term of the csv.\n"
   ]
  },
  {
   "cell_type": "code",
   "execution_count": 47,
   "metadata": {},
   "outputs": [],
   "source": [
    "import pandas as pd\n",
    "free_online_sky = pd.read_csv(\"/home/ollydb20/Data Analysis/Sky Piracy Data/Raw Data/FreeOnlineSky.csv\")\n",
    "free_sky = pd.read_csv(\"/home/ollydb20/Data Analysis/Sky Piracy Data/Raw Data/FreeSky.csv\")\n",
    "free_sky_sports = pd.read_csv(\"/home/ollydb20/Data Analysis/Sky Piracy Data/Raw Data/FreeSkySports.csv\")\n",
    "sky_sports_free = pd.read_csv(\"/home/ollydb20/Data Analysis/Sky Piracy Data/Raw Data/SkySportsFree.csv\")\n",
    "watch_sky_sports_free = pd.read_csv(\"/home/ollydb20/Data Analysis/Sky Piracy Data/Raw Data/WatchSkySportsFree.csv\")"
   ]
  },
  {
   "cell_type": "markdown",
   "metadata": {},
   "source": [
    "##### The below method is simply to inspect the first 5 lines of two sepreate datasets (to ensure that the data has is consistent from Google Analytics)\n"
   ]
  },
  {
   "cell_type": "code",
   "execution_count": 48,
   "metadata": {},
   "outputs": [
    {
     "data": {
      "application/vnd.microsoft.datawrangler.viewer.v0+json": {
       "columns": [
        {
         "name": "index",
         "rawType": "int64",
         "type": "integer"
        },
        {
         "name": "Category: All categories",
         "rawType": "object",
         "type": "unknown"
        },
        {
         "name": "Unnamed: 1",
         "rawType": "object",
         "type": "unknown"
        }
       ],
       "ref": "07ec2284-a0e8-4c12-bae3-24ad7615f422",
       "rows": [
        [
         "0",
         null,
         null
        ],
        [
         "1",
         "Month",
         "free online sky: (United Kingdom)"
        ],
        [
         "2",
         "2004-01",
         "0"
        ],
        [
         "3",
         "2004-02",
         "0"
        ],
        [
         "4",
         "2004-03",
         "0"
        ]
       ],
       "shape": {
        "columns": 2,
        "rows": 5
       }
      },
      "text/html": [
       "<div>\n",
       "<style scoped>\n",
       "    .dataframe tbody tr th:only-of-type {\n",
       "        vertical-align: middle;\n",
       "    }\n",
       "\n",
       "    .dataframe tbody tr th {\n",
       "        vertical-align: top;\n",
       "    }\n",
       "\n",
       "    .dataframe thead th {\n",
       "        text-align: right;\n",
       "    }\n",
       "</style>\n",
       "<table border=\"1\" class=\"dataframe\">\n",
       "  <thead>\n",
       "    <tr style=\"text-align: right;\">\n",
       "      <th></th>\n",
       "      <th>Category: All categories</th>\n",
       "      <th>Unnamed: 1</th>\n",
       "    </tr>\n",
       "  </thead>\n",
       "  <tbody>\n",
       "    <tr>\n",
       "      <th>0</th>\n",
       "      <td>NaN</td>\n",
       "      <td>NaN</td>\n",
       "    </tr>\n",
       "    <tr>\n",
       "      <th>1</th>\n",
       "      <td>Month</td>\n",
       "      <td>free online sky: (United Kingdom)</td>\n",
       "    </tr>\n",
       "    <tr>\n",
       "      <th>2</th>\n",
       "      <td>2004-01</td>\n",
       "      <td>0</td>\n",
       "    </tr>\n",
       "    <tr>\n",
       "      <th>3</th>\n",
       "      <td>2004-02</td>\n",
       "      <td>0</td>\n",
       "    </tr>\n",
       "    <tr>\n",
       "      <th>4</th>\n",
       "      <td>2004-03</td>\n",
       "      <td>0</td>\n",
       "    </tr>\n",
       "  </tbody>\n",
       "</table>\n",
       "</div>"
      ],
      "text/plain": [
       "  Category: All categories                         Unnamed: 1\n",
       "0                      NaN                                NaN\n",
       "1                    Month  free online sky: (United Kingdom)\n",
       "2                  2004-01                                  0\n",
       "3                  2004-02                                  0\n",
       "4                  2004-03                                  0"
      ]
     },
     "execution_count": 48,
     "metadata": {},
     "output_type": "execute_result"
    }
   ],
   "source": [
    "free_online_sky.head(5)\n"
   ]
  },
  {
   "cell_type": "code",
   "execution_count": 49,
   "metadata": {},
   "outputs": [
    {
     "data": {
      "application/vnd.microsoft.datawrangler.viewer.v0+json": {
       "columns": [
        {
         "name": "index",
         "rawType": "int64",
         "type": "integer"
        },
        {
         "name": "Category: All categories",
         "rawType": "object",
         "type": "unknown"
        },
        {
         "name": "Unnamed: 1",
         "rawType": "object",
         "type": "unknown"
        }
       ],
       "ref": "138d32ec-f363-4178-a054-4a58ec18dccb",
       "rows": [
        [
         "0",
         null,
         null
        ],
        [
         "1",
         "Month",
         "free sky: (United Kingdom)"
        ],
        [
         "2",
         "2004-01",
         "30"
        ],
        [
         "3",
         "2004-02",
         "28"
        ],
        [
         "4",
         "2004-03",
         "23"
        ]
       ],
       "shape": {
        "columns": 2,
        "rows": 5
       }
      },
      "text/html": [
       "<div>\n",
       "<style scoped>\n",
       "    .dataframe tbody tr th:only-of-type {\n",
       "        vertical-align: middle;\n",
       "    }\n",
       "\n",
       "    .dataframe tbody tr th {\n",
       "        vertical-align: top;\n",
       "    }\n",
       "\n",
       "    .dataframe thead th {\n",
       "        text-align: right;\n",
       "    }\n",
       "</style>\n",
       "<table border=\"1\" class=\"dataframe\">\n",
       "  <thead>\n",
       "    <tr style=\"text-align: right;\">\n",
       "      <th></th>\n",
       "      <th>Category: All categories</th>\n",
       "      <th>Unnamed: 1</th>\n",
       "    </tr>\n",
       "  </thead>\n",
       "  <tbody>\n",
       "    <tr>\n",
       "      <th>0</th>\n",
       "      <td>NaN</td>\n",
       "      <td>NaN</td>\n",
       "    </tr>\n",
       "    <tr>\n",
       "      <th>1</th>\n",
       "      <td>Month</td>\n",
       "      <td>free sky: (United Kingdom)</td>\n",
       "    </tr>\n",
       "    <tr>\n",
       "      <th>2</th>\n",
       "      <td>2004-01</td>\n",
       "      <td>30</td>\n",
       "    </tr>\n",
       "    <tr>\n",
       "      <th>3</th>\n",
       "      <td>2004-02</td>\n",
       "      <td>28</td>\n",
       "    </tr>\n",
       "    <tr>\n",
       "      <th>4</th>\n",
       "      <td>2004-03</td>\n",
       "      <td>23</td>\n",
       "    </tr>\n",
       "  </tbody>\n",
       "</table>\n",
       "</div>"
      ],
      "text/plain": [
       "  Category: All categories                  Unnamed: 1\n",
       "0                      NaN                         NaN\n",
       "1                    Month  free sky: (United Kingdom)\n",
       "2                  2004-01                          30\n",
       "3                  2004-02                          28\n",
       "4                  2004-03                          23"
      ]
     },
     "execution_count": 49,
     "metadata": {},
     "output_type": "execute_result"
    }
   ],
   "source": [
    "free_sky.head(5)"
   ]
  },
  {
   "cell_type": "markdown",
   "metadata": {},
   "source": [
    "##### From the outset, it is clear that the datasets have included the first 2 lines (row 0-1 wihtin the data itself. This would likely cause issues with the insights and analysis and would need to be removed).\n",
    "\n",
    "##### The following code is to demonstrate how to remove the duplicate rows in Python, but I would normally re-import the file with \"pd.read_csv = ('filename', skiprows = 2)\" command.\n",
    "\n",
    "##### Instead the command is to use the method \"iloc\" which essentially just finds the row index (identifier) and The \"reset_index\" method is prevent the dataframe from being altered into a series object(which looks a lot messier). The parameter \"drop = True\" drops the initial index so they are not duplicated\n"
   ]
  },
  {
   "cell_type": "code",
   "execution_count": 50,
   "metadata": {},
   "outputs": [],
   "source": [
    "free_online_sky = free_online_sky.iloc[2:].reset_index(drop=True)\n",
    "free_sky = free_sky.iloc[2:].reset_index(drop=True)\n",
    "free_sky_sports = free_sky_sports.iloc[2:].reset_index(drop=True)\n",
    "sky_sports_free = sky_sports_free.iloc[2:].reset_index(drop = True)\n",
    "watch_sky_sports_free = watch_sky_sports_free.iloc[2:].reset_index(drop = True)"
   ]
  },
  {
   "cell_type": "markdown",
   "metadata": {},
   "source": [
    "##### Now simply to test whether the code above worked by inspecting the data again ....\n"
   ]
  },
  {
   "cell_type": "code",
   "execution_count": 51,
   "metadata": {},
   "outputs": [
    {
     "data": {
      "application/vnd.microsoft.datawrangler.viewer.v0+json": {
       "columns": [
        {
         "name": "index",
         "rawType": "int64",
         "type": "integer"
        },
        {
         "name": "Category: All categories",
         "rawType": "object",
         "type": "string"
        },
        {
         "name": "Unnamed: 1",
         "rawType": "object",
         "type": "string"
        }
       ],
       "ref": "818721fb-72e3-4b61-8b36-296699bbcb6f",
       "rows": [
        [
         "0",
         "2004-01",
         "0"
        ],
        [
         "1",
         "2004-02",
         "0"
        ],
        [
         "2",
         "2004-03",
         "0"
        ],
        [
         "3",
         "2004-04",
         "0"
        ],
        [
         "4",
         "2004-05",
         "0"
        ]
       ],
       "shape": {
        "columns": 2,
        "rows": 5
       }
      },
      "text/html": [
       "<div>\n",
       "<style scoped>\n",
       "    .dataframe tbody tr th:only-of-type {\n",
       "        vertical-align: middle;\n",
       "    }\n",
       "\n",
       "    .dataframe tbody tr th {\n",
       "        vertical-align: top;\n",
       "    }\n",
       "\n",
       "    .dataframe thead th {\n",
       "        text-align: right;\n",
       "    }\n",
       "</style>\n",
       "<table border=\"1\" class=\"dataframe\">\n",
       "  <thead>\n",
       "    <tr style=\"text-align: right;\">\n",
       "      <th></th>\n",
       "      <th>Category: All categories</th>\n",
       "      <th>Unnamed: 1</th>\n",
       "    </tr>\n",
       "  </thead>\n",
       "  <tbody>\n",
       "    <tr>\n",
       "      <th>0</th>\n",
       "      <td>2004-01</td>\n",
       "      <td>0</td>\n",
       "    </tr>\n",
       "    <tr>\n",
       "      <th>1</th>\n",
       "      <td>2004-02</td>\n",
       "      <td>0</td>\n",
       "    </tr>\n",
       "    <tr>\n",
       "      <th>2</th>\n",
       "      <td>2004-03</td>\n",
       "      <td>0</td>\n",
       "    </tr>\n",
       "    <tr>\n",
       "      <th>3</th>\n",
       "      <td>2004-04</td>\n",
       "      <td>0</td>\n",
       "    </tr>\n",
       "    <tr>\n",
       "      <th>4</th>\n",
       "      <td>2004-05</td>\n",
       "      <td>0</td>\n",
       "    </tr>\n",
       "  </tbody>\n",
       "</table>\n",
       "</div>"
      ],
      "text/plain": [
       "  Category: All categories Unnamed: 1\n",
       "0                  2004-01          0\n",
       "1                  2004-02          0\n",
       "2                  2004-03          0\n",
       "3                  2004-04          0\n",
       "4                  2004-05          0"
      ]
     },
     "execution_count": 51,
     "metadata": {},
     "output_type": "execute_result"
    }
   ],
   "source": [
    "free_online_sky.head(5)\n"
   ]
  },
  {
   "cell_type": "code",
   "execution_count": 52,
   "metadata": {},
   "outputs": [
    {
     "data": {
      "application/vnd.microsoft.datawrangler.viewer.v0+json": {
       "columns": [
        {
         "name": "index",
         "rawType": "int64",
         "type": "integer"
        },
        {
         "name": "Category: All categories",
         "rawType": "object",
         "type": "string"
        },
        {
         "name": "Unnamed: 1",
         "rawType": "object",
         "type": "string"
        }
       ],
       "ref": "8b2c461e-58e8-423b-9c34-09e819881a96",
       "rows": [
        [
         "0",
         "2004-01",
         "30"
        ],
        [
         "1",
         "2004-02",
         "28"
        ],
        [
         "2",
         "2004-03",
         "23"
        ],
        [
         "3",
         "2004-04",
         "25"
        ],
        [
         "4",
         "2004-05",
         "23"
        ]
       ],
       "shape": {
        "columns": 2,
        "rows": 5
       }
      },
      "text/html": [
       "<div>\n",
       "<style scoped>\n",
       "    .dataframe tbody tr th:only-of-type {\n",
       "        vertical-align: middle;\n",
       "    }\n",
       "\n",
       "    .dataframe tbody tr th {\n",
       "        vertical-align: top;\n",
       "    }\n",
       "\n",
       "    .dataframe thead th {\n",
       "        text-align: right;\n",
       "    }\n",
       "</style>\n",
       "<table border=\"1\" class=\"dataframe\">\n",
       "  <thead>\n",
       "    <tr style=\"text-align: right;\">\n",
       "      <th></th>\n",
       "      <th>Category: All categories</th>\n",
       "      <th>Unnamed: 1</th>\n",
       "    </tr>\n",
       "  </thead>\n",
       "  <tbody>\n",
       "    <tr>\n",
       "      <th>0</th>\n",
       "      <td>2004-01</td>\n",
       "      <td>30</td>\n",
       "    </tr>\n",
       "    <tr>\n",
       "      <th>1</th>\n",
       "      <td>2004-02</td>\n",
       "      <td>28</td>\n",
       "    </tr>\n",
       "    <tr>\n",
       "      <th>2</th>\n",
       "      <td>2004-03</td>\n",
       "      <td>23</td>\n",
       "    </tr>\n",
       "    <tr>\n",
       "      <th>3</th>\n",
       "      <td>2004-04</td>\n",
       "      <td>25</td>\n",
       "    </tr>\n",
       "    <tr>\n",
       "      <th>4</th>\n",
       "      <td>2004-05</td>\n",
       "      <td>23</td>\n",
       "    </tr>\n",
       "  </tbody>\n",
       "</table>\n",
       "</div>"
      ],
      "text/plain": [
       "  Category: All categories Unnamed: 1\n",
       "0                  2004-01         30\n",
       "1                  2004-02         28\n",
       "2                  2004-03         23\n",
       "3                  2004-04         25\n",
       "4                  2004-05         23"
      ]
     },
     "execution_count": 52,
     "metadata": {},
     "output_type": "execute_result"
    }
   ],
   "source": [
    "free_sky.head(5)"
   ]
  },
  {
   "cell_type": "markdown",
   "metadata": {},
   "source": [
    "##### The next issue identified with this data is now the columns do not have any titles. The below code is to rename the categories with titles more appropriate for the data it is holding.\n"
   ]
  },
  {
   "cell_type": "code",
   "execution_count": 53,
   "metadata": {},
   "outputs": [
    {
     "data": {
      "application/vnd.microsoft.datawrangler.viewer.v0+json": {
       "columns": [
        {
         "name": "index",
         "rawType": "int64",
         "type": "integer"
        },
        {
         "name": "Month",
         "rawType": "object",
         "type": "string"
        },
        {
         "name": "Searches for 'Free Online Sky'",
         "rawType": "object",
         "type": "string"
        }
       ],
       "ref": "7a2fd241-e724-4ee1-a239-7d85bb0e3602",
       "rows": [
        [
         "0",
         "2004-01",
         "0"
        ],
        [
         "1",
         "2004-02",
         "0"
        ]
       ],
       "shape": {
        "columns": 2,
        "rows": 2
       }
      },
      "text/html": [
       "<div>\n",
       "<style scoped>\n",
       "    .dataframe tbody tr th:only-of-type {\n",
       "        vertical-align: middle;\n",
       "    }\n",
       "\n",
       "    .dataframe tbody tr th {\n",
       "        vertical-align: top;\n",
       "    }\n",
       "\n",
       "    .dataframe thead th {\n",
       "        text-align: right;\n",
       "    }\n",
       "</style>\n",
       "<table border=\"1\" class=\"dataframe\">\n",
       "  <thead>\n",
       "    <tr style=\"text-align: right;\">\n",
       "      <th></th>\n",
       "      <th>Month</th>\n",
       "      <th>Searches for 'Free Online Sky'</th>\n",
       "    </tr>\n",
       "  </thead>\n",
       "  <tbody>\n",
       "    <tr>\n",
       "      <th>0</th>\n",
       "      <td>2004-01</td>\n",
       "      <td>0</td>\n",
       "    </tr>\n",
       "    <tr>\n",
       "      <th>1</th>\n",
       "      <td>2004-02</td>\n",
       "      <td>0</td>\n",
       "    </tr>\n",
       "  </tbody>\n",
       "</table>\n",
       "</div>"
      ],
      "text/plain": [
       "     Month Searches for 'Free Online Sky'\n",
       "0  2004-01                              0\n",
       "1  2004-02                              0"
      ]
     },
     "execution_count": 53,
     "metadata": {},
     "output_type": "execute_result"
    }
   ],
   "source": [
    "free_online_sky = free_online_sky.rename(columns = {'Category: All categories' : 'Month', \n",
    "                                           'Unnamed: 1' : 'Searches for \\'Free Online Sky\\''\n",
    "\n",
    "})\n",
    "\n",
    "free_online_sky.head(2)"
   ]
  },
  {
   "cell_type": "markdown",
   "metadata": {},
   "source": [
    "##### As above, this is much clearer and the same logic can be applied to all data sets (below)\n"
   ]
  },
  {
   "cell_type": "code",
   "execution_count": 54,
   "metadata": {},
   "outputs": [],
   "source": [
    "free_sky = free_sky.rename(columns = {'Category: All categories' : 'Month', \n",
    "                                           'Unnamed: 1' : 'Searches for \\'Free Sky\\''})\n",
    "free_sky_sports = free_sky_sports.rename(columns = {'Category: All categories' : 'Month', \n",
    "                                           'Unnamed: 1' : 'Searches for \\'Free Sky Sports\\''})\n",
    "sky_sports_free = sky_sports_free.rename(columns = {'Category: All categories' : 'Month', \n",
    "                                           'Unnamed: 1' : 'Searches for \\'Sky Sports Free\\''})\n",
    "watch_sky_sports_free = watch_sky_sports_free.rename(columns = {'Category: All categories' : 'Month', \n",
    "                                           'Unnamed: 1' : 'Searches for \\'Watch Sky Sports Free\\''})\n"
   ]
  },
  {
   "cell_type": "markdown",
   "metadata": {},
   "source": [
    "##### The final step before Analysis is to merge the datasets into one for easier analysis. Using the merge method, this is quite simple. For this data, I would use an outer merge to get all of the data. More complex data (missing values / different columns would require more advanced tools).\n",
    "\n",
    "##### As I've learned a lot of software development (Java/Python) in my spare time, I know some tricks e.g. lambda function. All the below commands are saying is to create a list (groups variables together ie. the datasets) and merge using the variables using an outer merge.\n"
   ]
  },
  {
   "cell_type": "code",
   "execution_count": 55,
   "metadata": {},
   "outputs": [],
   "source": [
    "from functools import reduce\n",
    "\n",
    "dfs = [free_sky, free_sky_sports, sky_sports_free, watch_sky_sports_free]\n",
    "merged_data = reduce(lambda left, right: pd.merge(left, right, how='outer'), dfs)\n",
    "\n"
   ]
  },
  {
   "cell_type": "markdown",
   "metadata": {},
   "source": [
    "##### The below code is to inspect our new dataset, with the variable \"merged_data\", to ensure it looks like what we had initially wanted."
   ]
  },
  {
   "cell_type": "code",
   "execution_count": 56,
   "metadata": {},
   "outputs": [
    {
     "data": {
      "application/vnd.microsoft.datawrangler.viewer.v0+json": {
       "columns": [
        {
         "name": "index",
         "rawType": "int64",
         "type": "integer"
        },
        {
         "name": "Month",
         "rawType": "object",
         "type": "string"
        },
        {
         "name": "Searches for 'Free Sky'",
         "rawType": "object",
         "type": "string"
        },
        {
         "name": "Searches for 'Free Sky Sports'",
         "rawType": "object",
         "type": "string"
        },
        {
         "name": "Searches for 'Sky Sports Free'",
         "rawType": "object",
         "type": "string"
        },
        {
         "name": "Searches for 'Watch Sky Sports Free'",
         "rawType": "object",
         "type": "string"
        }
       ],
       "ref": "a6ae9fce-e412-4fb6-86d9-4bb76c8945cf",
       "rows": [
        [
         "0",
         "2004-01",
         "30",
         "5",
         "5",
         "0"
        ],
        [
         "1",
         "2004-02",
         "28",
         "9",
         "9",
         "0"
        ],
        [
         "2",
         "2004-03",
         "23",
         "0",
         "0",
         "0"
        ],
        [
         "3",
         "2004-04",
         "25",
         "0",
         "0",
         "0"
        ],
        [
         "4",
         "2004-05",
         "23",
         "5",
         "5",
         "0"
        ]
       ],
       "shape": {
        "columns": 5,
        "rows": 5
       }
      },
      "text/html": [
       "<div>\n",
       "<style scoped>\n",
       "    .dataframe tbody tr th:only-of-type {\n",
       "        vertical-align: middle;\n",
       "    }\n",
       "\n",
       "    .dataframe tbody tr th {\n",
       "        vertical-align: top;\n",
       "    }\n",
       "\n",
       "    .dataframe thead th {\n",
       "        text-align: right;\n",
       "    }\n",
       "</style>\n",
       "<table border=\"1\" class=\"dataframe\">\n",
       "  <thead>\n",
       "    <tr style=\"text-align: right;\">\n",
       "      <th></th>\n",
       "      <th>Month</th>\n",
       "      <th>Searches for 'Free Sky'</th>\n",
       "      <th>Searches for 'Free Sky Sports'</th>\n",
       "      <th>Searches for 'Sky Sports Free'</th>\n",
       "      <th>Searches for 'Watch Sky Sports Free'</th>\n",
       "    </tr>\n",
       "  </thead>\n",
       "  <tbody>\n",
       "    <tr>\n",
       "      <th>0</th>\n",
       "      <td>2004-01</td>\n",
       "      <td>30</td>\n",
       "      <td>5</td>\n",
       "      <td>5</td>\n",
       "      <td>0</td>\n",
       "    </tr>\n",
       "    <tr>\n",
       "      <th>1</th>\n",
       "      <td>2004-02</td>\n",
       "      <td>28</td>\n",
       "      <td>9</td>\n",
       "      <td>9</td>\n",
       "      <td>0</td>\n",
       "    </tr>\n",
       "    <tr>\n",
       "      <th>2</th>\n",
       "      <td>2004-03</td>\n",
       "      <td>23</td>\n",
       "      <td>0</td>\n",
       "      <td>0</td>\n",
       "      <td>0</td>\n",
       "    </tr>\n",
       "    <tr>\n",
       "      <th>3</th>\n",
       "      <td>2004-04</td>\n",
       "      <td>25</td>\n",
       "      <td>0</td>\n",
       "      <td>0</td>\n",
       "      <td>0</td>\n",
       "    </tr>\n",
       "    <tr>\n",
       "      <th>4</th>\n",
       "      <td>2004-05</td>\n",
       "      <td>23</td>\n",
       "      <td>5</td>\n",
       "      <td>5</td>\n",
       "      <td>0</td>\n",
       "    </tr>\n",
       "  </tbody>\n",
       "</table>\n",
       "</div>"
      ],
      "text/plain": [
       "     Month Searches for 'Free Sky' Searches for 'Free Sky Sports'  \\\n",
       "0  2004-01                      30                              5   \n",
       "1  2004-02                      28                              9   \n",
       "2  2004-03                      23                              0   \n",
       "3  2004-04                      25                              0   \n",
       "4  2004-05                      23                              5   \n",
       "\n",
       "  Searches for 'Sky Sports Free' Searches for 'Watch Sky Sports Free'  \n",
       "0                              5                                    0  \n",
       "1                              9                                    0  \n",
       "2                              0                                    0  \n",
       "3                              0                                    0  \n",
       "4                              5                                    0  "
      ]
     },
     "execution_count": 56,
     "metadata": {},
     "output_type": "execute_result"
    }
   ],
   "source": [
    "merged_data.head()"
   ]
  },
  {
   "cell_type": "markdown",
   "metadata": {},
   "source": [
    "##### The data looks good and is ready for analysis (in a seperate document). Using the \"to_csv\" command, python can save the new dataset to a new CSV file in the relevant folder.\n"
   ]
  },
  {
   "cell_type": "code",
   "execution_count": 57,
   "metadata": {},
   "outputs": [],
   "source": [
    "merged_data.to_csv(\"/home/ollydb20/Data Analysis/Sky Piracy Data/Cleaned Data/cleaned_data.csv\")"
   ]
  }
 ],
 "metadata": {
  "kernelspec": {
   "display_name": "Python 3",
   "language": "python",
   "name": "python3"
  },
  "language_info": {
   "codemirror_mode": {
    "name": "ipython",
    "version": 3
   },
   "file_extension": ".py",
   "mimetype": "text/x-python",
   "name": "python",
   "nbconvert_exporter": "python",
   "pygments_lexer": "ipython3",
   "version": "3.12.3"
  }
 },
 "nbformat": 4,
 "nbformat_minor": 2
}
