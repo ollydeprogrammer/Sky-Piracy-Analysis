{
 "cells": [
  {
   "cell_type": "markdown",
   "metadata": {},
   "source": [
    "# Project : Analysis of Google Search Analytics for piracy terms.\n",
    "\n",
    "### Document brief: This document is to provide some analysis on the Data Set used in the previous final, and communicate the findings."
   ]
  },
  {
   "cell_type": "markdown",
   "metadata": {},
   "source": [
    "##### The code that I have written below is used import the librararies required for analysis. Firstly Pandas, which is the defacto analysis tool for Python.\n",
    "##### Secondly, seaborn and matplotlibrary, which are plotting tools used in Python (creating charts, diagrams and more).\n",
    "##### Finally, I have imported the merged dataset from the previous data cleaning done before hand. "
   ]
  },
  {
   "cell_type": "code",
   "execution_count": 252,
   "metadata": {},
   "outputs": [],
   "source": [
    "import pandas as pd\n",
    "import seaborn as sb\n",
    "import matplotlib.pyplot as plt\n",
    "\n",
    "df = pd.read_csv(\"/home/ollydb20/Data Analysis/Sky Piracy Data/Cleaned Data/cleaned_data.csv\")\n"
   ]
  },
  {
   "cell_type": "markdown",
   "metadata": {},
   "source": [
    "##### Below is a simple line of code that show the top 5 values of the dataset, this is mainly to ensure that the search terms have been inplemeneted correctly."
   ]
  },
  {
   "cell_type": "code",
   "execution_count": 253,
   "metadata": {},
   "outputs": [
    {
     "data": {
      "application/vnd.microsoft.datawrangler.viewer.v0+json": {
       "columns": [
        {
         "name": "index",
         "rawType": "int64",
         "type": "integer"
        },
        {
         "name": "Unnamed: 0",
         "rawType": "int64",
         "type": "integer"
        },
        {
         "name": "Month",
         "rawType": "object",
         "type": "string"
        },
        {
         "name": "Searches for 'Free Sky'",
         "rawType": "int64",
         "type": "integer"
        },
        {
         "name": "Searches for 'Free Sky Sports'",
         "rawType": "int64",
         "type": "integer"
        },
        {
         "name": "Searches for 'Sky Sports Free'",
         "rawType": "int64",
         "type": "integer"
        },
        {
         "name": "Searches for 'Watch Sky Sports Free'",
         "rawType": "int64",
         "type": "integer"
        }
       ],
       "ref": "2b9979bd-c3d9-4167-a5ef-b7918468b22c",
       "rows": [
        [
         "0",
         "0",
         "2004-01",
         "30",
         "5",
         "5",
         "0"
        ],
        [
         "1",
         "1",
         "2004-02",
         "28",
         "9",
         "9",
         "0"
        ],
        [
         "2",
         "2",
         "2004-03",
         "23",
         "0",
         "0",
         "0"
        ],
        [
         "3",
         "3",
         "2004-04",
         "25",
         "0",
         "0",
         "0"
        ],
        [
         "4",
         "4",
         "2004-05",
         "23",
         "5",
         "5",
         "0"
        ]
       ],
       "shape": {
        "columns": 6,
        "rows": 5
       }
      },
      "text/html": [
       "<div>\n",
       "<style scoped>\n",
       "    .dataframe tbody tr th:only-of-type {\n",
       "        vertical-align: middle;\n",
       "    }\n",
       "\n",
       "    .dataframe tbody tr th {\n",
       "        vertical-align: top;\n",
       "    }\n",
       "\n",
       "    .dataframe thead th {\n",
       "        text-align: right;\n",
       "    }\n",
       "</style>\n",
       "<table border=\"1\" class=\"dataframe\">\n",
       "  <thead>\n",
       "    <tr style=\"text-align: right;\">\n",
       "      <th></th>\n",
       "      <th>Unnamed: 0</th>\n",
       "      <th>Month</th>\n",
       "      <th>Searches for 'Free Sky'</th>\n",
       "      <th>Searches for 'Free Sky Sports'</th>\n",
       "      <th>Searches for 'Sky Sports Free'</th>\n",
       "      <th>Searches for 'Watch Sky Sports Free'</th>\n",
       "    </tr>\n",
       "  </thead>\n",
       "  <tbody>\n",
       "    <tr>\n",
       "      <th>0</th>\n",
       "      <td>0</td>\n",
       "      <td>2004-01</td>\n",
       "      <td>30</td>\n",
       "      <td>5</td>\n",
       "      <td>5</td>\n",
       "      <td>0</td>\n",
       "    </tr>\n",
       "    <tr>\n",
       "      <th>1</th>\n",
       "      <td>1</td>\n",
       "      <td>2004-02</td>\n",
       "      <td>28</td>\n",
       "      <td>9</td>\n",
       "      <td>9</td>\n",
       "      <td>0</td>\n",
       "    </tr>\n",
       "    <tr>\n",
       "      <th>2</th>\n",
       "      <td>2</td>\n",
       "      <td>2004-03</td>\n",
       "      <td>23</td>\n",
       "      <td>0</td>\n",
       "      <td>0</td>\n",
       "      <td>0</td>\n",
       "    </tr>\n",
       "    <tr>\n",
       "      <th>3</th>\n",
       "      <td>3</td>\n",
       "      <td>2004-04</td>\n",
       "      <td>25</td>\n",
       "      <td>0</td>\n",
       "      <td>0</td>\n",
       "      <td>0</td>\n",
       "    </tr>\n",
       "    <tr>\n",
       "      <th>4</th>\n",
       "      <td>4</td>\n",
       "      <td>2004-05</td>\n",
       "      <td>23</td>\n",
       "      <td>5</td>\n",
       "      <td>5</td>\n",
       "      <td>0</td>\n",
       "    </tr>\n",
       "  </tbody>\n",
       "</table>\n",
       "</div>"
      ],
      "text/plain": [
       "   Unnamed: 0    Month  Searches for 'Free Sky'  \\\n",
       "0           0  2004-01                       30   \n",
       "1           1  2004-02                       28   \n",
       "2           2  2004-03                       23   \n",
       "3           3  2004-04                       25   \n",
       "4           4  2004-05                       23   \n",
       "\n",
       "   Searches for 'Free Sky Sports'  Searches for 'Sky Sports Free'  \\\n",
       "0                               5                               5   \n",
       "1                               9                               9   \n",
       "2                               0                               0   \n",
       "3                               0                               0   \n",
       "4                               5                               5   \n",
       "\n",
       "   Searches for 'Watch Sky Sports Free'  \n",
       "0                                     0  \n",
       "1                                     0  \n",
       "2                                     0  \n",
       "3                                     0  \n",
       "4                                     0  "
      ]
     },
     "execution_count": 253,
     "metadata": {},
     "output_type": "execute_result"
    }
   ],
   "source": [
    "df.head(5)"
   ]
  },
  {
   "cell_type": "markdown",
   "metadata": {},
   "source": [
    "##### I noticed that the table above had two indexes (row indicators) after importing. I have used the line below to drop the duplicate column."
   ]
  },
  {
   "cell_type": "code",
   "execution_count": 254,
   "metadata": {},
   "outputs": [
    {
     "data": {
      "application/vnd.microsoft.datawrangler.viewer.v0+json": {
       "columns": [
        {
         "name": "index",
         "rawType": "int64",
         "type": "integer"
        },
        {
         "name": "Month",
         "rawType": "object",
         "type": "string"
        },
        {
         "name": "Searches for 'Free Sky'",
         "rawType": "int64",
         "type": "integer"
        },
        {
         "name": "Searches for 'Free Sky Sports'",
         "rawType": "int64",
         "type": "integer"
        },
        {
         "name": "Searches for 'Sky Sports Free'",
         "rawType": "int64",
         "type": "integer"
        },
        {
         "name": "Searches for 'Watch Sky Sports Free'",
         "rawType": "int64",
         "type": "integer"
        }
       ],
       "ref": "95108504-5fe9-4003-8dee-b5da21d2fa42",
       "rows": [
        [
         "0",
         "2004-01",
         "30",
         "5",
         "5",
         "0"
        ],
        [
         "1",
         "2004-02",
         "28",
         "9",
         "9",
         "0"
        ],
        [
         "2",
         "2004-03",
         "23",
         "0",
         "0",
         "0"
        ],
        [
         "3",
         "2004-04",
         "25",
         "0",
         "0",
         "0"
        ],
        [
         "4",
         "2004-05",
         "23",
         "5",
         "5",
         "0"
        ]
       ],
       "shape": {
        "columns": 5,
        "rows": 5
       }
      },
      "text/html": [
       "<div>\n",
       "<style scoped>\n",
       "    .dataframe tbody tr th:only-of-type {\n",
       "        vertical-align: middle;\n",
       "    }\n",
       "\n",
       "    .dataframe tbody tr th {\n",
       "        vertical-align: top;\n",
       "    }\n",
       "\n",
       "    .dataframe thead th {\n",
       "        text-align: right;\n",
       "    }\n",
       "</style>\n",
       "<table border=\"1\" class=\"dataframe\">\n",
       "  <thead>\n",
       "    <tr style=\"text-align: right;\">\n",
       "      <th></th>\n",
       "      <th>Month</th>\n",
       "      <th>Searches for 'Free Sky'</th>\n",
       "      <th>Searches for 'Free Sky Sports'</th>\n",
       "      <th>Searches for 'Sky Sports Free'</th>\n",
       "      <th>Searches for 'Watch Sky Sports Free'</th>\n",
       "    </tr>\n",
       "  </thead>\n",
       "  <tbody>\n",
       "    <tr>\n",
       "      <th>0</th>\n",
       "      <td>2004-01</td>\n",
       "      <td>30</td>\n",
       "      <td>5</td>\n",
       "      <td>5</td>\n",
       "      <td>0</td>\n",
       "    </tr>\n",
       "    <tr>\n",
       "      <th>1</th>\n",
       "      <td>2004-02</td>\n",
       "      <td>28</td>\n",
       "      <td>9</td>\n",
       "      <td>9</td>\n",
       "      <td>0</td>\n",
       "    </tr>\n",
       "    <tr>\n",
       "      <th>2</th>\n",
       "      <td>2004-03</td>\n",
       "      <td>23</td>\n",
       "      <td>0</td>\n",
       "      <td>0</td>\n",
       "      <td>0</td>\n",
       "    </tr>\n",
       "    <tr>\n",
       "      <th>3</th>\n",
       "      <td>2004-04</td>\n",
       "      <td>25</td>\n",
       "      <td>0</td>\n",
       "      <td>0</td>\n",
       "      <td>0</td>\n",
       "    </tr>\n",
       "    <tr>\n",
       "      <th>4</th>\n",
       "      <td>2004-05</td>\n",
       "      <td>23</td>\n",
       "      <td>5</td>\n",
       "      <td>5</td>\n",
       "      <td>0</td>\n",
       "    </tr>\n",
       "  </tbody>\n",
       "</table>\n",
       "</div>"
      ],
      "text/plain": [
       "     Month  Searches for 'Free Sky'  Searches for 'Free Sky Sports'  \\\n",
       "0  2004-01                       30                               5   \n",
       "1  2004-02                       28                               9   \n",
       "2  2004-03                       23                               0   \n",
       "3  2004-04                       25                               0   \n",
       "4  2004-05                       23                               5   \n",
       "\n",
       "   Searches for 'Sky Sports Free'  Searches for 'Watch Sky Sports Free'  \n",
       "0                               5                                     0  \n",
       "1                               9                                     0  \n",
       "2                               0                                     0  \n",
       "3                               0                                     0  \n",
       "4                               5                                     0  "
      ]
     },
     "execution_count": 254,
     "metadata": {},
     "output_type": "execute_result"
    }
   ],
   "source": [
    "df = df.drop(columns='Unnamed: 0')\n",
    "df.head(5)"
   ]
  },
  {
   "cell_type": "markdown",
   "metadata": {},
   "source": [
    "##### After reviewing the data, I felt that the most interesting analysis we could run, is to examine the total searches accross all search terms for every month, which could be used to compare months and years, and hypothesise any conclusions. \n",
    "\n",
    "\n",
    "##### The code I have created below, creates a new column labelled 'Total_Searches' which has calculated the sum across all search terms for every row in our table. "
   ]
  },
  {
   "cell_type": "code",
   "execution_count": 255,
   "metadata": {},
   "outputs": [
    {
     "data": {
      "application/vnd.microsoft.datawrangler.viewer.v0+json": {
       "columns": [
        {
         "name": "index",
         "rawType": "int64",
         "type": "integer"
        },
        {
         "name": "Month",
         "rawType": "object",
         "type": "string"
        },
        {
         "name": "Searches for 'Free Sky'",
         "rawType": "int64",
         "type": "integer"
        },
        {
         "name": "Searches for 'Free Sky Sports'",
         "rawType": "int64",
         "type": "integer"
        },
        {
         "name": "Searches for 'Sky Sports Free'",
         "rawType": "int64",
         "type": "integer"
        },
        {
         "name": "Searches for 'Watch Sky Sports Free'",
         "rawType": "int64",
         "type": "integer"
        },
        {
         "name": "Total_Searches",
         "rawType": "int64",
         "type": "integer"
        }
       ],
       "ref": "48cc0ee0-d640-4945-ac3e-695e875e96bd",
       "rows": [
        [
         "0",
         "2004-01",
         "30",
         "5",
         "5",
         "0",
         "40"
        ],
        [
         "1",
         "2004-02",
         "28",
         "9",
         "9",
         "0",
         "46"
        ],
        [
         "2",
         "2004-03",
         "23",
         "0",
         "0",
         "0",
         "23"
        ],
        [
         "3",
         "2004-04",
         "25",
         "0",
         "0",
         "0",
         "25"
        ],
        [
         "4",
         "2004-05",
         "23",
         "5",
         "5",
         "0",
         "33"
        ]
       ],
       "shape": {
        "columns": 6,
        "rows": 5
       }
      },
      "text/html": [
       "<div>\n",
       "<style scoped>\n",
       "    .dataframe tbody tr th:only-of-type {\n",
       "        vertical-align: middle;\n",
       "    }\n",
       "\n",
       "    .dataframe tbody tr th {\n",
       "        vertical-align: top;\n",
       "    }\n",
       "\n",
       "    .dataframe thead th {\n",
       "        text-align: right;\n",
       "    }\n",
       "</style>\n",
       "<table border=\"1\" class=\"dataframe\">\n",
       "  <thead>\n",
       "    <tr style=\"text-align: right;\">\n",
       "      <th></th>\n",
       "      <th>Month</th>\n",
       "      <th>Searches for 'Free Sky'</th>\n",
       "      <th>Searches for 'Free Sky Sports'</th>\n",
       "      <th>Searches for 'Sky Sports Free'</th>\n",
       "      <th>Searches for 'Watch Sky Sports Free'</th>\n",
       "      <th>Total_Searches</th>\n",
       "    </tr>\n",
       "  </thead>\n",
       "  <tbody>\n",
       "    <tr>\n",
       "      <th>0</th>\n",
       "      <td>2004-01</td>\n",
       "      <td>30</td>\n",
       "      <td>5</td>\n",
       "      <td>5</td>\n",
       "      <td>0</td>\n",
       "      <td>40</td>\n",
       "    </tr>\n",
       "    <tr>\n",
       "      <th>1</th>\n",
       "      <td>2004-02</td>\n",
       "      <td>28</td>\n",
       "      <td>9</td>\n",
       "      <td>9</td>\n",
       "      <td>0</td>\n",
       "      <td>46</td>\n",
       "    </tr>\n",
       "    <tr>\n",
       "      <th>2</th>\n",
       "      <td>2004-03</td>\n",
       "      <td>23</td>\n",
       "      <td>0</td>\n",
       "      <td>0</td>\n",
       "      <td>0</td>\n",
       "      <td>23</td>\n",
       "    </tr>\n",
       "    <tr>\n",
       "      <th>3</th>\n",
       "      <td>2004-04</td>\n",
       "      <td>25</td>\n",
       "      <td>0</td>\n",
       "      <td>0</td>\n",
       "      <td>0</td>\n",
       "      <td>25</td>\n",
       "    </tr>\n",
       "    <tr>\n",
       "      <th>4</th>\n",
       "      <td>2004-05</td>\n",
       "      <td>23</td>\n",
       "      <td>5</td>\n",
       "      <td>5</td>\n",
       "      <td>0</td>\n",
       "      <td>33</td>\n",
       "    </tr>\n",
       "  </tbody>\n",
       "</table>\n",
       "</div>"
      ],
      "text/plain": [
       "     Month  Searches for 'Free Sky'  Searches for 'Free Sky Sports'  \\\n",
       "0  2004-01                       30                               5   \n",
       "1  2004-02                       28                               9   \n",
       "2  2004-03                       23                               0   \n",
       "3  2004-04                       25                               0   \n",
       "4  2004-05                       23                               5   \n",
       "\n",
       "   Searches for 'Sky Sports Free'  Searches for 'Watch Sky Sports Free'  \\\n",
       "0                               5                                     0   \n",
       "1                               9                                     0   \n",
       "2                               0                                     0   \n",
       "3                               0                                     0   \n",
       "4                               5                                     0   \n",
       "\n",
       "   Total_Searches  \n",
       "0              40  \n",
       "1              46  \n",
       "2              23  \n",
       "3              25  \n",
       "4              33  "
      ]
     },
     "execution_count": 255,
     "metadata": {},
     "output_type": "execute_result"
    }
   ],
   "source": [
    "df['Total_Searches'] = df.iloc[:, 1:].sum(axis=1)\n",
    "df.head(5)"
   ]
  },
  {
   "cell_type": "markdown",
   "metadata": {},
   "source": [
    "##### Now that I have found the Totals for every month, what I believe is one of the most important questions, is to ask which month across our data is the highest, and why? \n",
    "\n",
    "##### The code that follows, is used to find the maximum value across all months of our data in an instant."
   ]
  },
  {
   "cell_type": "code",
   "execution_count": 256,
   "metadata": {},
   "outputs": [
    {
     "name": "stdout",
     "output_type": "stream",
     "text": [
      "2013-08\n"
     ]
    }
   ],
   "source": [
    "top_month = df.loc[df['Total_Searches'].idxmax(), 'Month']\n",
    "print(top_month)"
   ]
  },
  {
   "cell_type": "markdown",
   "metadata": {},
   "source": [
    "##### The result of our code has shown that August 2013 is the highest month for searches related to piracy across our dataset\n",
    "\n",
    "##### Firstly, My initial thoughts towards why 2013 has the highest total compared to other years are\n",
    "##### 1. Sky did not have up to date online streaming platforms were in the public domain, and being used by such larger numbers of people as in 2025.\n",
    "##### 2. It was harder for the average person to access sporting content without a Satellite connection during this time. March 2013 was the first time that Now TV launched Sport within the service, and was  only beginning its growth in popularity.\n",
    "##### 3. Between 2010-2017 was a significant period of Superfast broadband rollout across the United Kingdom. The UK Government invested £530 million to provide superfast broadband to 90% of areas by 2016.  \n",
    "\n",
    "##### If we were to compare year on year, my theory would suggest a fast growth between 2004-2017, and a decline afterwards as streaming services (Now TV, Sky GO) and more became available. \n",
    "\n",
    "##### Below is a bar chart that compares the total of searches per year, to compare the trend of the searches over time."
   ]
  },
  {
   "cell_type": "code",
   "execution_count": 257,
   "metadata": {},
   "outputs": [
    {
     "name": "stderr",
     "output_type": "stream",
     "text": [
      "/tmp/ipykernel_40452/2796366975.py:8: UserWarning: set_ticklabels() should only be used with a fixed number of ticks, i.e. after set_ticks() or using a FixedLocator.\n",
      "  ax.set_xticklabels(ax.get_xticklabels(), rotation=45)\n"
     ]
    },
    {
     "data": {
      "image/png": "[encoded data removed]",
      "text/plain": [
       "<Figure size 800x500 with 1 Axes>"
      ]
     },
     "metadata": {},
     "output_type": "display_data"
    }
   ],
   "source": [
    "df['Month'] = pd.to_datetime(df['Month']) #Converting the month column into a datetime object \n",
    "df['Year'] = df['Month'].dt.year\n",
    "\n",
    "year_by_data = df.groupby('Year')['Total_Searches'].sum().reset_index() #counts the sum of the total searches by year. \n",
    "plt.figure(figsize=(8, 5))  \n",
    "ax = sb.barplot(x='Year', y='Total_Searches', data=year_by_data) #plotting the bar plot\n",
    "\n",
    "ax.set_xticklabels(ax.get_xticklabels(), rotation=45) \n",
    "\n",
    "plt.title(\"Total Searches by Year\")\n",
    "plt.tight_layout()  \n",
    "plt.show()"
   ]
  },
  {
   "cell_type": "markdown",
   "metadata": {},
   "source": [
    "##### The bar chart shows a sharp increase at a time where online streaming grew in popularity between 2004-2011 (e.g., new UK superfast broadband was being distributed nationally so more people would have access to streaming services), before steadily decreasing afterwards. This suggests that some of my thoughts may be true, but potentially the growth of streaming services occurred faster than I had first anticipated."
   ]
  },
  {
   "cell_type": "markdown",
   "metadata": {},
   "source": [
    "##### The next question I want to as is why specifcally August? And is August going to be the most popular month across all of our years? \n",
    "\n",
    "\n",
    "##### Similarly, my initial assumptions is that August is likely to be the most common month for searching. My theory is that August is likely to be higher than other months due to the start of the new Football (and other winter sports, including Rugby, NFL etc) league Season, and so the general audience is likely excisted to watch the new seasons, and therefore, use piracy.\n",
    "\n",
    "##### My hypothesis drawn from my theory is that \"August is more likely to have higher searches for pirated streaming on Google than all other months\". \n",
    "\n",
    "##### The below code is to test this hyptohesis in Python, firstly by creating a new DataFrame that shows the total searches for each month of the year (Each month has the total values for 2004- 2025). This will then return the highest month's value."
   ]
  },
  {
   "cell_type": "code",
   "execution_count": 258,
   "metadata": {},
   "outputs": [
    {
     "name": "stdout",
     "output_type": "stream",
     "text": [
      "   Month_Name  Total_Searches\n",
      "1      August            3579\n",
      "11  September            2998\n",
      "0       April            2951\n",
      "4     January            2853\n",
      "7       March            2762\n",
      "8         May            2722\n",
      "3    February            2705\n",
      "2    December            2625\n",
      "10    October            2559\n",
      "9    November            2529\n",
      "6        June            2504\n",
      "5        July            2423\n"
     ]
    }
   ],
   "source": [
    "df['Month'] = pd.to_datetime(df['Month'])\n",
    "df['Month_Name'] = df['Month'].dt.month_name()\n",
    "\n",
    "monthly_average = df.groupby('Month_Name')['Total_Searches'].sum().reset_index()\n",
    "\n",
    "month_order = ['January', 'February', 'March', 'April', 'May', 'June',\n",
    "               'July', 'August', 'September', 'October', 'November', 'December']\n",
    "\n",
    "monthly_average['Month_Name'] = pd.Categorical(\n",
    "    monthly_average['Month_Name'],\n",
    "    categories=month_order,\n",
    "    ordered=True,\n",
    ")\n",
    "\n",
    "monthly_average = monthly_average.sort_values('Total_Searches', ascending=False)\n",
    "\n",
    "print(monthly_average)"
   ]
  },
  {
   "cell_type": "markdown",
   "metadata": {},
   "source": [
    "##### These findings show consistency with the original hypothesis, as  August is the most popular month for searching of our key terms, followed by September. These months are the first of the football league, and other sports seasons. \n"
   ]
  },
  {
   "cell_type": "markdown",
   "metadata": {},
   "source": [
    "##### Although My findings indicate that my initial judgement is correct, we cannot say for certain that this is simply a correlation of the data AKA a coincidence.\n",
    "\n",
    "##### To be able to \"prove\" our hypothesis, or at least be certain that we are not wrong, is by performing a statistical hypothesis test. The aim of a hypothesis test is to prove that the probability that we could be wrong, to be less than 5% (P-Value 0.05). In statistics, a 5% chance chance of being wrong, or 95% chance of being right, is considered acceptable to reject our null hyptothesis. We can then argue that people are statistically more likely to search for piracy streams relating to Sky in August, than any other month.\n",
    "\n",
    "\n",
    "##### The test I will be using for this analysis, is a simple T-test. A T-test is used to compare the mean average of two different values, as we want to test the mean average of searches for August against the mean average of all other months. The code below deploys the T-test, and will return our P-Value.\n"
   ]
  },
  {
   "cell_type": "code",
   "execution_count": 259,
   "metadata": {},
   "outputs": [
    {
     "name": "stdout",
     "output_type": "stream",
     "text": [
      "T-statistic: -18.324\n",
      "P-value: 0.00000\n"
     ]
    }
   ],
   "source": [
    "\n",
    "from scipy import stats\n",
    "\n",
    "df['Month'] = pd.to_datetime(df['Month'])\n",
    "df['Month_Name'] = df['Month'].dt.month_name()\n",
    "\n",
    "monthly_data = df.groupby('Month_Name')['Total_Searches'].mean()\n",
    "\n",
    "august_value = monthly_data['August']\n",
    "other_months = monthly_data.drop('August')\n",
    "\n",
    "t_stat, p_value = stats.ttest_1samp(other_months, august_value)\n",
    "\n",
    "print(f\"T-statistic: {t_stat:.3f}\")\n",
    "print(f\"P-value: {p_value:.5f}\")"
   ]
  },
  {
   "cell_type": "markdown",
   "metadata": {},
   "source": [
    "##### Our P-Value (AKA, probability value) is incredibly small, meaning that our findings are statistically signficant. We can reject our null hypothesis and accept that August is more likely to have higher searches for pirated streaming on Google than all other months.\n",
    "\n"
   ]
  },
  {
   "cell_type": "markdown",
   "metadata": {},
   "source": [
    "### Caveats/ Considerations.\n",
    "\n",
    "\n",
    "##### There are some caveats with these findings that we must observe and consider before presenting these findings. \n",
    "\n",
    "##### 1. The data pool is limited, and there are many more search terms associated with streaming sports (Not just SKY) that can be included. The search terms were from my own personal understanding of search terms that would be used. However, it may be worth while first finding the most searched terms associated with streaming/piracy from other data sources. \n",
    "\n",
    "##### 2. These findings only indicate the trends of searching for piracy content, but does not show the actual rates of viewing piracy content, which may completely differ. We can only conclude that August is more likely to be searched more than other months, but not that August is the month where most piracy streams are watched.  "
   ]
  }
 ],
 "metadata": {
  "kernelspec": {
   "display_name": "Python 3",
   "language": "python",
   "name": "python3"
  },
  "language_info": {
   "codemirror_mode": {
    "name": "ipython",
    "version": 3
   },
   "file_extension": ".py",
   "mimetype": "text/x-python",
   "name": "python",
   "nbconvert_exporter": "python",
   "pygments_lexer": "ipython3",
   "version": "3.12.3"
  }
 },
 "nbformat": 4,
 "nbformat_minor": 2
}
